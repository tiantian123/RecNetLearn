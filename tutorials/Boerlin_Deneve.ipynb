{
 "cells": [
  {
   "cell_type": "markdown",
   "metadata": {},
   "source": [
    "### Exponential Integration Routine:\n",
    "\n",
    "A linear dynamical system:\n",
    "\n",
    "$$\\dot{x} = Ax + c(t)$$\n",
    "\n",
    "Has the exact solution:\n",
    "\n",
    "$$x(t) = e^{tA}x(0) + \\int_0^t e^{(t-\\tau)A}c(\\tau) d\\tau$$\n",
    "\n",
    "Over a small time interval, $\\Delta t$, we can approximate the input, $c(t)$, as a constant. Pulling this term out of the integral we get:\n",
    "\n",
    "$$x(t + \\Delta t) = e^{\\Delta t A}x(t) + c(t) \\int_0^{\\Delta t} e^{(\\Delta t - \\tau)A} d\\tau$$\n",
    "\n",
    "Which evaluates to:\n",
    "\n",
    "$$x(t + \\Delta t) = e^{\\Delta t A}x(t) + A^{-1} (e^{\\Delta t A} - 1) c(t) $$\n",
    "\n",
    "To simplify notation, we define $\\Phi = e^{\\Delta t A}$, which *exactly* describes how the state evolves over a time step $\\Delta t$ when the input is zero, $c(t) = 0$.\n",
    "\n",
    "$$x(t + \\Delta t) = \\Phi x(t) + A^{-1} (\\Phi - 1) c(t)$$\n"
   ]
  },
  {
   "cell_type": "code",
   "execution_count": 9,
   "metadata": {
    "collapsed": false
   },
   "outputs": [
    {
     "data": {
      "text/plain": [
       "101"
      ]
     },
     "execution_count": 9,
     "metadata": {},
     "output_type": "execute_result"
    }
   ],
   "source": [
    "length([0:0.1:10])"
   ]
  },
  {
   "cell_type": "code",
   "execution_count": 2,
   "metadata": {
    "collapsed": false
   },
   "outputs": [
    {
     "data": {
      "text/plain": [
       "20"
      ]
     },
     "execution_count": 2,
     "metadata": {},
     "output_type": "execute_result"
    }
   ],
   "source": [
    "function test(x)\n",
    "    x*2\n",
    "end\n",
    "\n",
    "test(10)"
   ]
  },
  {
   "cell_type": "code",
   "execution_count": 6,
   "metadata": {
    "collapsed": false
   },
   "outputs": [
    {
     "data": {
      "text/plain": [
       "true"
      ]
     },
     "execution_count": 6,
     "metadata": {},
     "output_type": "execute_result"
    }
   ],
   "source": [
    "100.0/0.1 == 1000"
   ]
  },
  {
   "cell_type": "code",
   "execution_count": 8,
   "metadata": {
    "collapsed": false
   },
   "outputs": [
    {
     "data": {
      "text/plain": [
       "10x10 Array{Float64,2}:\n",
       " 2.71828  0.0      0.0      0.0      …  0.0      0.0      0.0      0.0    \n",
       " 0.0      2.71828  0.0      0.0         0.0      0.0      0.0      0.0    \n",
       " 0.0      0.0      2.71828  0.0         0.0      0.0      0.0      0.0    \n",
       " 0.0      0.0      0.0      2.71828     0.0      0.0      0.0      0.0    \n",
       " 0.0      0.0      0.0      0.0         0.0      0.0      0.0      0.0    \n",
       " 0.0      0.0      0.0      0.0      …  0.0      0.0      0.0      0.0    \n",
       " 0.0      0.0      0.0      0.0         2.71828  0.0      0.0      0.0    \n",
       " 0.0      0.0      0.0      0.0         0.0      2.71828  0.0      0.0    \n",
       " 0.0      0.0      0.0      0.0         0.0      0.0      2.71828  0.0    \n",
       " 0.0      0.0      0.0      0.0         0.0      0.0      0.0      2.71828"
      ]
     },
     "execution_count": 8,
     "metadata": {},
     "output_type": "execute_result"
    }
   ],
   "source": [
    "expm(eye(10))"
   ]
  },
  {
   "cell_type": "code",
   "execution_count": null,
   "metadata": {
    "collapsed": true
   },
   "outputs": [],
   "source": []
  }
 ],
 "metadata": {
  "kernelspec": {
   "display_name": "Julia 0.3.9",
   "language": "julia",
   "name": "julia-0.3"
  },
  "language_info": {
   "name": "julia",
   "version": "0.3.9"
  }
 },
 "nbformat": 4,
 "nbformat_minor": 0
}

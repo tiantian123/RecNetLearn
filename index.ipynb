{
 "cells": [
  {
   "cell_type": "markdown",
   "metadata": {},
   "source": [
    "# Recurrent Neural Networks\n",
    "\n",
    "[**Alex Williams**](http://alexhwilliams.info)\n",
    "\n",
    "This site contains some tutorials and demonstrations of rate-based models of recurrent networks. Click the links below to get started!\n",
    "\n",
    "### Tutorials\n",
    "\n",
    "* [FORCE Learning](tutorials/FORCE_Learning.ipynb)"
   ]
  }
 ],
 "metadata": {
  "kernelspec": {
   "display_name": "Python 2",
   "language": "python",
   "name": "python2"
  },
  "language_info": {
   "codemirror_mode": {
    "name": "ipython",
    "version": 2
   },
   "file_extension": ".py",
   "mimetype": "text/x-python",
   "name": "python",
   "nbconvert_exporter": "python",
   "pygments_lexer": "ipython2",
   "version": "2.7.10"
  }
 },
 "nbformat": 4,
 "nbformat_minor": 0
}
